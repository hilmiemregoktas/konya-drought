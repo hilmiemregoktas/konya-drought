{
 "cells": [
  {
   "cell_type": "code",
   "execution_count": 1,
   "id": "4b0ec8a6",
   "metadata": {
    "execution": {
     "iopub.execute_input": "2022-05-16T19:15:52.054729Z",
     "iopub.status.busy": "2022-05-16T19:15:52.053140Z",
     "iopub.status.idle": "2022-05-16T19:16:18.640824Z",
     "shell.execute_reply": "2022-05-16T19:16:18.640193Z",
     "shell.execute_reply.started": "2022-05-16T14:38:21.438583Z"
    },
    "papermill": {
     "duration": 26.614519,
     "end_time": "2022-05-16T19:16:18.641003",
     "exception": false,
     "start_time": "2022-05-16T19:15:52.026484",
     "status": "completed"
    },
    "tags": []
   },
   "outputs": [
    {
     "name": "stdout",
     "output_type": "stream",
     "text": [
      "Collecting rioxarray\r\n",
      "  Downloading rioxarray-0.9.1.tar.gz (47 kB)\r\n",
      "     |████████████████████████████████| 47 kB 1.4 MB/s             \r\n",
      "\u001b[?25h  Installing build dependencies ... \u001b[?25l-\b \b\\\b \b|\b \b/\b \bdone\r\n",
      "\u001b[?25h  Getting requirements to build wheel ... \u001b[?25l-\b \b\\\b \b|\b \b/\b \b-\b \bdone\r\n",
      "\u001b[?25h  Preparing metadata (pyproject.toml) ... \u001b[?25l-\b \b\\\b \b|\b \b/\b \b-\b \bdone\r\n",
      "\u001b[?25hRequirement already satisfied: pyproj>=2.2 in /opt/conda/lib/python3.7/site-packages (from rioxarray) (3.1.0)\r\n",
      "Requirement already satisfied: xarray>=0.17 in /opt/conda/lib/python3.7/site-packages (from rioxarray) (0.20.2)\r\n",
      "Requirement already satisfied: packaging in /opt/conda/lib/python3.7/site-packages (from rioxarray) (21.3)\r\n",
      "Requirement already satisfied: rasterio in /opt/conda/lib/python3.7/site-packages (from rioxarray) (1.2.10)\r\n",
      "Requirement already satisfied: certifi in /opt/conda/lib/python3.7/site-packages (from pyproj>=2.2->rioxarray) (2021.10.8)\r\n",
      "Requirement already satisfied: typing-extensions>=3.7 in /opt/conda/lib/python3.7/site-packages (from xarray>=0.17->rioxarray) (4.1.1)\r\n",
      "Requirement already satisfied: importlib-metadata in /opt/conda/lib/python3.7/site-packages (from xarray>=0.17->rioxarray) (4.11.3)\r\n",
      "Requirement already satisfied: numpy>=1.18 in /opt/conda/lib/python3.7/site-packages (from xarray>=0.17->rioxarray) (1.20.3)\r\n",
      "Requirement already satisfied: pandas>=1.1 in /opt/conda/lib/python3.7/site-packages (from xarray>=0.17->rioxarray) (1.3.5)\r\n",
      "Requirement already satisfied: pyparsing!=3.0.5,>=2.0.2 in /opt/conda/lib/python3.7/site-packages (from packaging->rioxarray) (3.0.6)\r\n",
      "Requirement already satisfied: click-plugins in /opt/conda/lib/python3.7/site-packages (from rasterio->rioxarray) (1.1.1)\r\n",
      "Requirement already satisfied: click>=4.0 in /opt/conda/lib/python3.7/site-packages (from rasterio->rioxarray) (8.0.3)\r\n",
      "Requirement already satisfied: affine in /opt/conda/lib/python3.7/site-packages (from rasterio->rioxarray) (2.3.0)\r\n",
      "Requirement already satisfied: attrs in /opt/conda/lib/python3.7/site-packages (from rasterio->rioxarray) (21.2.0)\r\n",
      "Requirement already satisfied: snuggs>=1.4.1 in /opt/conda/lib/python3.7/site-packages (from rasterio->rioxarray) (1.4.7)\r\n",
      "Requirement already satisfied: cligj>=0.5 in /opt/conda/lib/python3.7/site-packages (from rasterio->rioxarray) (0.7.2)\r\n",
      "Requirement already satisfied: setuptools in /opt/conda/lib/python3.7/site-packages (from rasterio->rioxarray) (59.5.0)\r\n",
      "Requirement already satisfied: python-dateutil>=2.7.3 in /opt/conda/lib/python3.7/site-packages (from pandas>=1.1->xarray>=0.17->rioxarray) (2.8.2)\r\n",
      "Requirement already satisfied: pytz>=2017.3 in /opt/conda/lib/python3.7/site-packages (from pandas>=1.1->xarray>=0.17->rioxarray) (2021.3)\r\n",
      "Requirement already satisfied: zipp>=0.5 in /opt/conda/lib/python3.7/site-packages (from importlib-metadata->xarray>=0.17->rioxarray) (3.6.0)\r\n",
      "Requirement already satisfied: six>=1.5 in /opt/conda/lib/python3.7/site-packages (from python-dateutil>=2.7.3->pandas>=1.1->xarray>=0.17->rioxarray) (1.16.0)\r\n",
      "Building wheels for collected packages: rioxarray\r\n",
      "  Building wheel for rioxarray (pyproject.toml) ... \u001b[?25l-\b \b\\\b \b|\b \b/\b \b-\b \b\\\b \b|\b \b/\b \b-\b \bdone\r\n",
      "\u001b[?25h  Created wheel for rioxarray: filename=rioxarray-0.9.1-py3-none-any.whl size=54590 sha256=0600c623431f376229ceac06a3ee1b75098412b60ae582391fc963b6265c9f39\r\n",
      "  Stored in directory: /root/.cache/pip/wheels/07/da/9e/1cc57b2e7a29a206893db83e984a341e2e94378263e0798229\r\n",
      "Successfully built rioxarray\r\n",
      "Installing collected packages: rioxarray\r\n",
      "Successfully installed rioxarray-0.9.1\r\n",
      "\u001b[33mWARNING: Running pip as the 'root' user can result in broken permissions and conflicting behaviour with the system package manager. It is recommended to use a virtual environment instead: https://pip.pypa.io/warnings/venv\u001b[0m\r\n"
     ]
    }
   ],
   "source": [
    "!pip install rioxarray"
   ]
  },
  {
   "cell_type": "code",
   "execution_count": 2,
   "id": "0d4f41b8",
   "metadata": {
    "execution": {
     "iopub.execute_input": "2022-05-16T19:16:18.715713Z",
     "iopub.status.busy": "2022-05-16T19:16:18.714776Z",
     "iopub.status.idle": "2022-05-16T19:16:22.304338Z",
     "shell.execute_reply": "2022-05-16T19:16:22.303717Z",
     "shell.execute_reply.started": "2022-05-16T14:40:48.384457Z"
    },
    "papermill": {
     "duration": 3.627856,
     "end_time": "2022-05-16T19:16:22.304492",
     "exception": false,
     "start_time": "2022-05-16T19:16:18.676636",
     "status": "completed"
    },
    "tags": []
   },
   "outputs": [],
   "source": [
    "import os\n",
    "import pandas as pd\n",
    "import numpy as np\n",
    "import rasterio as rio\n",
    "import rioxarray as rxr\n",
    "import warnings\n",
    "warnings.filterwarnings('ignore', 'RuntimeWarning', )"
   ]
  },
  {
   "cell_type": "code",
   "execution_count": 3,
   "id": "baba36b8",
   "metadata": {
    "execution": {
     "iopub.execute_input": "2022-05-16T19:16:22.380262Z",
     "iopub.status.busy": "2022-05-16T19:16:22.379585Z",
     "iopub.status.idle": "2022-05-16T19:16:22.423827Z",
     "shell.execute_reply": "2022-05-16T19:16:22.424345Z",
     "shell.execute_reply.started": "2022-05-16T14:41:11.225745Z"
    },
    "papermill": {
     "duration": 0.085414,
     "end_time": "2022-05-16T19:16:22.424506",
     "exception": false,
     "start_time": "2022-05-16T19:16:22.339092",
     "status": "completed"
    },
    "tags": []
   },
   "outputs": [
    {
     "data": {
      "text/plain": [
       "['Havza_2013_ndvi.tif',\n",
       " 'Havza_2014_ndvi.tif',\n",
       " 'Havza_2015_ndvi.tif',\n",
       " 'Havza_2016_ndvi.tif',\n",
       " 'Havza_2017_ndvi.tif',\n",
       " 'Havza_2018_ndvi.tif',\n",
       " 'Havza_2019_ndvi.tif',\n",
       " 'Havza_2020_ndvi.tif',\n",
       " 'Havza_2021_ndvi.tif',\n",
       " '__notebook__.ipynb',\n",
       " '__output__.json',\n",
       " '__results__.html',\n",
       " '__results___files',\n",
       " 'custom.css']"
      ]
     },
     "execution_count": 3,
     "metadata": {},
     "output_type": "execute_result"
    }
   ],
   "source": [
    "havza_ndvil89 = os.listdir(\"../input/2204-d-havza-ndvi-l89\")\n",
    "il_ndvil89 = os.listdir(\"../input/2204-d-l-s-n-rlar-na-k-rpma-l89\")\n",
    "ilce_ndvil89 = os.listdir(\"../input/2204-d-l-e-s-n-rlar-na-k-rpma-l89\")\n",
    "\n",
    "havza_ndvil5 = os.listdir(\"../input/2204-d-havza-ndvi-l5\")\n",
    "il_ndvil5 = os.listdir(\"../input/2204-d-l-s-n-rlar-na-k-rpma-l5\")\n",
    "ilce_ndvil5 = os.listdir(\"../input/2204-d-l-e-s-n-rlar-na-k-rpma-l5\")\n",
    "\n",
    "havza_ndvil89.sort()\n",
    "il_ndvil89.sort()\n",
    "ilce_ndvil89.sort()\n",
    "\n",
    "havza_ndvil5.sort()\n",
    "il_ndvil5.sort()\n",
    "ilce_ndvil5.sort()\n",
    "\n",
    "havza_ndvil89"
   ]
  },
  {
   "cell_type": "code",
   "execution_count": 4,
   "id": "43a53777",
   "metadata": {
    "execution": {
     "iopub.execute_input": "2022-05-16T19:16:22.499864Z",
     "iopub.status.busy": "2022-05-16T19:16:22.499230Z",
     "iopub.status.idle": "2022-05-16T19:16:22.502103Z",
     "shell.execute_reply": "2022-05-16T19:16:22.502533Z",
     "shell.execute_reply.started": "2022-05-16T14:41:13.808358Z"
    },
    "papermill": {
     "duration": 0.044249,
     "end_time": "2022-05-16T19:16:22.502673",
     "exception": false,
     "start_time": "2022-05-16T19:16:22.458424",
     "status": "completed"
    },
    "tags": []
   },
   "outputs": [
    {
     "data": {
      "text/plain": [
       "['Year2000',\n",
       " 'Year2001',\n",
       " 'Year2002',\n",
       " 'Year2003',\n",
       " 'Year2004',\n",
       " 'Year2005',\n",
       " 'Year2006',\n",
       " 'Year2007',\n",
       " 'Year2008',\n",
       " 'Year2009',\n",
       " 'Year2010',\n",
       " 'Year2011',\n",
       " '__notebook__.ipynb',\n",
       " '__output__.json',\n",
       " '__results__.html',\n",
       " '__results___files',\n",
       " 'custom.css']"
      ]
     },
     "execution_count": 4,
     "metadata": {},
     "output_type": "execute_result"
    }
   ],
   "source": [
    "il_ndvil5"
   ]
  },
  {
   "cell_type": "code",
   "execution_count": 5,
   "id": "372936e2",
   "metadata": {
    "execution": {
     "iopub.execute_input": "2022-05-16T19:16:22.574396Z",
     "iopub.status.busy": "2022-05-16T19:16:22.573593Z",
     "iopub.status.idle": "2022-05-16T19:16:22.581018Z",
     "shell.execute_reply": "2022-05-16T19:16:22.580452Z",
     "shell.execute_reply.started": "2022-05-16T14:41:15.929132Z"
    },
    "papermill": {
     "duration": 0.044195,
     "end_time": "2022-05-16T19:16:22.581133",
     "exception": false,
     "start_time": "2022-05-16T19:16:22.536938",
     "status": "completed"
    },
    "tags": []
   },
   "outputs": [
    {
     "data": {
      "text/plain": [
       "['Havza_2013_ndvi.tif',\n",
       " 'Havza_2014_ndvi.tif',\n",
       " 'Havza_2015_ndvi.tif',\n",
       " 'Havza_2016_ndvi.tif',\n",
       " 'Havza_2017_ndvi.tif',\n",
       " 'Havza_2018_ndvi.tif',\n",
       " 'Havza_2019_ndvi.tif',\n",
       " 'Havza_2020_ndvi.tif',\n",
       " 'Havza_2021_ndvi.tif']"
      ]
     },
     "execution_count": 5,
     "metadata": {},
     "output_type": "execute_result"
    }
   ],
   "source": [
    "havza_ndvil89 = havza_ndvil89[:-5]\n",
    "il_ndvil89 = il_ndvil89[:-5]\n",
    "ilce_ndvil89 = ilce_ndvil89[:-5]\n",
    "havza_ndvil5 = havza_ndvil5[:-5]\n",
    "il_ndvil5 = il_ndvil5[:-5]\n",
    "ilce_ndvil5 = ilce_ndvil5[:-5]\n",
    "havza_ndvil89"
   ]
  },
  {
   "cell_type": "code",
   "execution_count": 6,
   "id": "e97ed5bd",
   "metadata": {
    "execution": {
     "iopub.execute_input": "2022-05-16T19:16:22.655696Z",
     "iopub.status.busy": "2022-05-16T19:16:22.655038Z",
     "iopub.status.idle": "2022-05-16T19:16:22.657676Z",
     "shell.execute_reply": "2022-05-16T19:16:22.658125Z",
     "shell.execute_reply.started": "2022-05-16T14:41:18.353146Z"
    },
    "papermill": {
     "duration": 0.041812,
     "end_time": "2022-05-16T19:16:22.658261",
     "exception": false,
     "start_time": "2022-05-16T19:16:22.616449",
     "status": "completed"
    },
    "tags": []
   },
   "outputs": [
    {
     "data": {
      "text/plain": [
       "['Year2000',\n",
       " 'Year2001',\n",
       " 'Year2002',\n",
       " 'Year2003',\n",
       " 'Year2004',\n",
       " 'Year2005',\n",
       " 'Year2006',\n",
       " 'Year2007',\n",
       " 'Year2008',\n",
       " 'Year2009',\n",
       " 'Year2010',\n",
       " 'Year2011']"
      ]
     },
     "execution_count": 6,
     "metadata": {},
     "output_type": "execute_result"
    }
   ],
   "source": [
    "il_ndvil5"
   ]
  },
  {
   "cell_type": "code",
   "execution_count": 7,
   "id": "e56c41cc",
   "metadata": {
    "execution": {
     "iopub.execute_input": "2022-05-16T19:16:22.739877Z",
     "iopub.status.busy": "2022-05-16T19:16:22.738868Z",
     "iopub.status.idle": "2022-05-16T19:16:22.740705Z",
     "shell.execute_reply": "2022-05-16T19:16:22.741317Z",
     "shell.execute_reply.started": "2022-05-16T14:41:20.139981Z"
    },
    "papermill": {
     "duration": 0.047557,
     "end_time": "2022-05-16T19:16:22.741454",
     "exception": false,
     "start_time": "2022-05-16T19:16:22.693897",
     "status": "completed"
    },
    "tags": []
   },
   "outputs": [],
   "source": [
    "ndvi_class_bins = [0, 0.2, 0.5, 1.0]\n",
    "def ndvi_to_csvdict(ndvi_arr, year, place):\n",
    "     # NDVI ve ilgili değerlerin hesaplanması için\n",
    "    cat1 = 0\n",
    "    cat2 = 0\n",
    "    cat3 = 0\n",
    "    \n",
    "    n_mean = np.nanmean(ndvi_arr) # Ortalama\n",
    "    n_std = np.nanstd(ndvi_arr) # Standart Sapma\n",
    "    \n",
    "    # Kategorikleştirme için\n",
    "    ndvi_landsat_class = np.digitize(ndvi_arr, ndvi_class_bins)\n",
    "    ndvi_landsat_class = np.ma.masked_where(np.ma.getmask(ndvi_arr), ndvi_landsat_class)\n",
    "    np.unique(ndvi_landsat_class)\n",
    "    comp_class = ndvi_landsat_class.compressed()\n",
    "    \n",
    "    for piksel in comp_class:\n",
    "        if piksel == 1:\n",
    "            cat1+=1\n",
    "        elif piksel ==2:\n",
    "            cat2+=1\n",
    "        elif piksel == 3:\n",
    "            cat3+=1\n",
    "    top = cat1+ cat2+ cat3\n",
    "    # Yüzdeleri için\n",
    "    try:\n",
    "        cat1y = cat1 / top * 100\n",
    "        cat2y = cat2 / top * 100\n",
    "        cat3y = cat3 / top * 100\n",
    "        \n",
    "        result = {\"yer\" : place, \"yıl\": year, \"ort\" : n_mean, \"std\" : n_std,\n",
    "                  \"kat1\" : cat1y, \"kat2\" : cat2y, \"kat3\" : cat3y}\n",
    "    \n",
    "        return result\n",
    "    \n",
    "    except ZeroDivisionError:\n",
    "        print(\"Boş Görüntü Atlandı\")\n",
    "        return \"None\"\n",
    "\n",
    "\n",
    "    \"\"\"\n",
    "    kat1 = 0.0 < NDVI < 0.2 olan piksellerin bulunma yüzdesi\n",
    "    kat2 = 0.2 < NDVI < 0.5 olan piksellerin bulunma yüzdesi\n",
    "    kat3 = 0.5 < NDVI olan piksellerin bulunma yüzdesi\n",
    "    \"\"\""
   ]
  },
  {
   "cell_type": "code",
   "execution_count": 8,
   "id": "d263ad4b",
   "metadata": {
    "execution": {
     "iopub.execute_input": "2022-05-16T19:16:22.815714Z",
     "iopub.status.busy": "2022-05-16T19:16:22.814784Z",
     "iopub.status.idle": "2022-05-16T19:29:13.793858Z",
     "shell.execute_reply": "2022-05-16T19:29:13.793283Z",
     "shell.execute_reply.started": "2022-05-16T14:41:23.887835Z"
    },
    "papermill": {
     "duration": 771.017088,
     "end_time": "2022-05-16T19:29:13.794034",
     "exception": false,
     "start_time": "2022-05-16T19:16:22.776946",
     "status": "completed"
    },
    "tags": []
   },
   "outputs": [],
   "source": [
    "dictlist = []\n",
    "for ndvi in havza_ndvil89:\n",
    "    year = ndvi.split(\"_\")[1]\n",
    "    ndvi_arr = rxr.open_rasterio(\"../input/2204-d-havza-ndvi-l89/\"+ndvi, masked=True).squeeze()\n",
    "    dictlist.append(ndvi_to_csvdict(ndvi_arr, year = year, place = \"Havza\"))"
   ]
  },
  {
   "cell_type": "code",
   "execution_count": 9,
   "id": "2863aea9",
   "metadata": {
    "execution": {
     "iopub.execute_input": "2022-05-16T19:29:13.870327Z",
     "iopub.status.busy": "2022-05-16T19:29:13.869637Z",
     "iopub.status.idle": "2022-05-16T19:29:13.872536Z",
     "shell.execute_reply": "2022-05-16T19:29:13.873030Z",
     "shell.execute_reply.started": "2022-05-10T07:27:01.473774Z"
    },
    "papermill": {
     "duration": 0.043061,
     "end_time": "2022-05-16T19:29:13.873177",
     "exception": false,
     "start_time": "2022-05-16T19:29:13.830116",
     "status": "completed"
    },
    "tags": []
   },
   "outputs": [
    {
     "data": {
      "text/plain": [
       "{'yer': 'Havza',\n",
       " 'yıl': '2013',\n",
       " 'ort': 0.14240573,\n",
       " 'std': 0.089891754,\n",
       " 'kat1': 83.46097849664432,\n",
       " 'kat2': 15.849318002251122,\n",
       " 'kat3': 0.6897035011045611}"
      ]
     },
     "execution_count": 9,
     "metadata": {},
     "output_type": "execute_result"
    }
   ],
   "source": [
    "dictlist[0]"
   ]
  },
  {
   "cell_type": "code",
   "execution_count": 10,
   "id": "85b89aa3",
   "metadata": {
    "execution": {
     "iopub.execute_input": "2022-05-16T19:29:13.949710Z",
     "iopub.status.busy": "2022-05-16T19:29:13.949121Z",
     "iopub.status.idle": "2022-05-16T19:46:27.858542Z",
     "shell.execute_reply": "2022-05-16T19:46:27.857996Z",
     "shell.execute_reply.started": "2022-05-10T07:27:10.297495Z"
    },
    "papermill": {
     "duration": 1033.9502,
     "end_time": "2022-05-16T19:46:27.858690",
     "exception": false,
     "start_time": "2022-05-16T19:29:13.908490",
     "status": "completed"
    },
    "tags": []
   },
   "outputs": [],
   "source": [
    "for ndvi in havza_ndvil5:\n",
    "    year = ndvi.split(\"_\")[1]\n",
    "    ndvi_arr = rxr.open_rasterio(\"../input/2204-d-havza-ndvi-l5/\"+ndvi, masked=True).squeeze()\n",
    "    dictlist.append(ndvi_to_csvdict(ndvi_arr, year = year, place = \"Havza\"))"
   ]
  },
  {
   "cell_type": "code",
   "execution_count": 11,
   "id": "eb4c6754",
   "metadata": {
    "execution": {
     "iopub.execute_input": "2022-05-16T19:46:27.936179Z",
     "iopub.status.busy": "2022-05-16T19:46:27.935465Z",
     "iopub.status.idle": "2022-05-16T19:46:27.938271Z",
     "shell.execute_reply": "2022-05-16T19:46:27.938671Z",
     "shell.execute_reply.started": "2022-05-10T07:55:42.078853Z"
    },
    "papermill": {
     "duration": 0.043534,
     "end_time": "2022-05-16T19:46:27.938802",
     "exception": false,
     "start_time": "2022-05-16T19:46:27.895268",
     "status": "completed"
    },
    "tags": []
   },
   "outputs": [
    {
     "data": {
      "text/plain": [
       "{'yer': 'Havza',\n",
       " 'yıl': '2011',\n",
       " 'ort': 0.0977312,\n",
       " 'std': 0.06280664,\n",
       " 'kat1': 93.48986777998054,\n",
       " 'kat2': 6.50762590731479,\n",
       " 'kat3': 0.0025063127046700702}"
      ]
     },
     "execution_count": 11,
     "metadata": {},
     "output_type": "execute_result"
    }
   ],
   "source": [
    "dictlist[-1]"
   ]
  },
  {
   "cell_type": "code",
   "execution_count": 12,
   "id": "6225b554",
   "metadata": {
    "execution": {
     "iopub.execute_input": "2022-05-16T19:46:28.013859Z",
     "iopub.status.busy": "2022-05-16T19:46:28.013348Z",
     "iopub.status.idle": "2022-05-16T19:46:28.071235Z",
     "shell.execute_reply": "2022-05-16T19:46:28.071702Z",
     "shell.execute_reply.started": "2022-05-16T15:02:07.996032Z"
    },
    "papermill": {
     "duration": 0.097447,
     "end_time": "2022-05-16T19:46:28.071857",
     "exception": false,
     "start_time": "2022-05-16T19:46:27.974410",
     "status": "completed"
    },
    "tags": []
   },
   "outputs": [
    {
     "name": "stdout",
     "output_type": "stream",
     "text": [
      "Ankara_il\n",
      "Antalya_il\n",
      "Karaman_il\n",
      "Nevsehir_il\n",
      "Nigde_il\n",
      "Aksaray_il\n",
      "Isparta_il\n",
      "Konya_il\n",
      "Mersin_il\n",
      "Mersin_il\n",
      "Antalya_il\n",
      "Nevsehir_il\n",
      "Nigde_il\n",
      "Ankara_il\n",
      "Karaman_il\n",
      "Konya_il\n",
      "Isparta_il\n",
      "Aksaray_il\n",
      "Karaman_il\n",
      "Nigde_il\n",
      "Mersin_il\n",
      "Antalya_il\n",
      "Isparta_il\n",
      "Aksaray_il\n",
      "Nevsehir_il\n",
      "Konya_il\n",
      "Ankara_il\n",
      "Aksaray_il\n",
      "Nevsehir_il\n",
      "Isparta_il\n",
      "Karaman_il\n",
      "Mersin_il\n",
      "Antalya_il\n",
      "Nigde_il\n",
      "Ankara_il\n",
      "Konya_il\n",
      "Ankara_il\n",
      "Mersin_il\n",
      "Antalya_il\n",
      "Nigde_il\n",
      "Nevsehir_il\n",
      "Aksaray_il\n",
      "Konya_il\n",
      "Karaman_il\n",
      "Isparta_il\n",
      "Nigde_il\n",
      "Antalya_il\n",
      "Nevsehir_il\n",
      "Mersin_il\n",
      "Isparta_il\n",
      "Aksaray_il\n",
      "Konya_il\n",
      "Karaman_il\n",
      "Ankara_il\n",
      "Nevsehir_il\n",
      "Nigde_il\n",
      "Aksaray_il\n",
      "Mersin_il\n",
      "Ankara_il\n",
      "Karaman_il\n",
      "Antalya_il\n",
      "Isparta_il\n",
      "Konya_il\n",
      "Karaman_il\n",
      "Antalya_il\n",
      "Nigde_il\n",
      "Aksaray_il\n",
      "Isparta_il\n",
      "Mersin_il\n",
      "Ankara_il\n",
      "Konya_il\n",
      "Nevsehir_il\n",
      "Nigde_il\n",
      "Isparta_il\n",
      "Aksaray_il\n",
      "Mersin_il\n",
      "Nevsehir_il\n",
      "Karaman_il\n",
      "Antalya_il\n",
      "Konya_il\n",
      "Ankara_il\n"
     ]
    }
   ],
   "source": [
    "for yearlist in il_ndvil89:\n",
    "    year = yearlist[-4:]\n",
    "    for ndvi in os.listdir(\"../input/2204-d-l-s-n-rlar-na-k-rpma-l89/\"+ yearlist):\n",
    "        place = ndvi.split(\"_\")[0:2]\n",
    "        place = place[0]+\"_\"+place[1]\n",
    "        print(place)"
   ]
  },
  {
   "cell_type": "code",
   "execution_count": 13,
   "id": "f09f2555",
   "metadata": {
    "execution": {
     "iopub.execute_input": "2022-05-16T19:46:28.146301Z",
     "iopub.status.busy": "2022-05-16T19:46:28.145537Z",
     "iopub.status.idle": "2022-05-16T20:02:23.135766Z",
     "shell.execute_reply": "2022-05-16T20:02:23.136293Z",
     "shell.execute_reply.started": "2022-05-16T15:02:23.778479Z"
    },
    "papermill": {
     "duration": 955.030135,
     "end_time": "2022-05-16T20:02:23.136481",
     "exception": false,
     "start_time": "2022-05-16T19:46:28.106346",
     "status": "completed"
    },
    "tags": []
   },
   "outputs": [],
   "source": [
    "for yearlist in il_ndvil89:\n",
    "    year = yearlist[-4:]\n",
    "    for ndvi in os.listdir(\"../input/2204-d-l-s-n-rlar-na-k-rpma-l89/\"+ yearlist):\n",
    "        place = ndvi.split(\"_\")[0:2]\n",
    "        place = place[0]+\"_\"+place[1]\n",
    "        ndvi_arr = rxr.open_rasterio(\"../input/2204-d-l-s-n-rlar-na-k-rpma-l89/\"+yearlist+\"/\"+ndvi, masked=True).squeeze()\n",
    "        dictlist.append(ndvi_to_csvdict(ndvi_arr, year = year, place = place))"
   ]
  },
  {
   "cell_type": "code",
   "execution_count": 14,
   "id": "cd1a1687",
   "metadata": {
    "execution": {
     "iopub.execute_input": "2022-05-16T20:02:23.214049Z",
     "iopub.status.busy": "2022-05-16T20:02:23.212843Z",
     "iopub.status.idle": "2022-05-16T20:02:23.216560Z",
     "shell.execute_reply": "2022-05-16T20:02:23.216112Z",
     "shell.execute_reply.started": "2022-05-16T15:15:02.572187Z"
    },
    "papermill": {
     "duration": 0.045231,
     "end_time": "2022-05-16T20:02:23.216666",
     "exception": false,
     "start_time": "2022-05-16T20:02:23.171435",
     "status": "completed"
    },
    "tags": []
   },
   "outputs": [
    {
     "data": {
      "text/plain": [
       "{'yer': 'Ankara_il',\n",
       " 'yıl': '2021',\n",
       " 'ort': 0.11313289,\n",
       " 'std': 0.056415703,\n",
       " 'kat1': 93.74673725080753,\n",
       " 'kat2': 6.156144980260367,\n",
       " 'kat3': 0.09711776893210218}"
      ]
     },
     "execution_count": 14,
     "metadata": {},
     "output_type": "execute_result"
    }
   ],
   "source": [
    "dictlist[-1]"
   ]
  },
  {
   "cell_type": "code",
   "execution_count": 15,
   "id": "54d66cdc",
   "metadata": {
    "execution": {
     "iopub.execute_input": "2022-05-16T20:02:23.290777Z",
     "iopub.status.busy": "2022-05-16T20:02:23.290287Z",
     "iopub.status.idle": "2022-05-16T20:23:16.844149Z",
     "shell.execute_reply": "2022-05-16T20:23:16.843531Z",
     "shell.execute_reply.started": "2022-04-24T17:56:42.866437Z"
    },
    "papermill": {
     "duration": 1253.593194,
     "end_time": "2022-05-16T20:23:16.844330",
     "exception": false,
     "start_time": "2022-05-16T20:02:23.251136",
     "status": "completed"
    },
    "tags": []
   },
   "outputs": [],
   "source": [
    "for yearlist in il_ndvil5:\n",
    "    year = yearlist[-4:]\n",
    "    for ndvi in os.listdir(\"../input/2204-d-l-s-n-rlar-na-k-rpma-l5/\"+ yearlist):\n",
    "        place = ndvi.split(\"_\")[0:2]\n",
    "        place = place[0]+\"_\"+place[1]\n",
    "        ndvi_arr = rxr.open_rasterio(\"../input/2204-d-l-s-n-rlar-na-k-rpma-l5/\"+yearlist+\"/\"+ndvi, masked=True).squeeze()\n",
    "        dictlist.append(ndvi_to_csvdict(ndvi_arr, year = year, place = place))"
   ]
  },
  {
   "cell_type": "code",
   "execution_count": 16,
   "id": "3095b1e0",
   "metadata": {
    "execution": {
     "iopub.execute_input": "2022-05-16T20:23:16.926169Z",
     "iopub.status.busy": "2022-05-16T20:23:16.925404Z",
     "iopub.status.idle": "2022-05-16T20:23:16.928602Z",
     "shell.execute_reply": "2022-05-16T20:23:16.929092Z",
     "shell.execute_reply.started": "2022-04-24T18:05:34.29691Z"
    },
    "papermill": {
     "duration": 0.045985,
     "end_time": "2022-05-16T20:23:16.929277",
     "exception": false,
     "start_time": "2022-05-16T20:23:16.883292",
     "status": "completed"
    },
    "tags": []
   },
   "outputs": [
    {
     "data": {
      "text/plain": [
       "{'yer': 'Nevsehir_il',\n",
       " 'yıl': '2011',\n",
       " 'ort': 0.11956179,\n",
       " 'std': 0.059083033,\n",
       " 'kat1': 90.56813723845956,\n",
       " 'kat2': 9.430696065463316,\n",
       " 'kat3': 0.0011666960771302777}"
      ]
     },
     "execution_count": 16,
     "metadata": {},
     "output_type": "execute_result"
    }
   ],
   "source": [
    "dictlist[-1]"
   ]
  },
  {
   "cell_type": "code",
   "execution_count": 17,
   "id": "7d1a2b89",
   "metadata": {
    "execution": {
     "iopub.execute_input": "2022-05-16T20:23:17.006606Z",
     "iopub.status.busy": "2022-05-16T20:23:17.005785Z",
     "iopub.status.idle": "2022-05-16T20:35:20.057052Z",
     "shell.execute_reply": "2022-05-16T20:35:20.056400Z",
     "shell.execute_reply.started": "2022-04-24T18:05:48.814252Z"
    },
    "papermill": {
     "duration": 723.090981,
     "end_time": "2022-05-16T20:35:20.057261",
     "exception": false,
     "start_time": "2022-05-16T20:23:16.966280",
     "status": "completed"
    },
    "tags": []
   },
   "outputs": [],
   "source": [
    "for yearlist in ilce_ndvil89:\n",
    "    year = yearlist[-4:]\n",
    "    for ndvi in os.listdir(\"../input/2204-d-l-e-s-n-rlar-na-k-rpma-l89/\"+ yearlist):\n",
    "        place = ndvi.split(\"_\")[0]\n",
    "        ndvi_arr = rxr.open_rasterio(\"../input/2204-d-l-e-s-n-rlar-na-k-rpma-l89/\"+yearlist+\"/\"+ndvi, masked=True).squeeze()\n",
    "        dictlist.append(ndvi_to_csvdict(ndvi_arr, year = year, place = place))"
   ]
  },
  {
   "cell_type": "code",
   "execution_count": 18,
   "id": "216b3ec3",
   "metadata": {
    "execution": {
     "iopub.execute_input": "2022-05-16T20:35:20.135630Z",
     "iopub.status.busy": "2022-05-16T20:35:20.134851Z",
     "iopub.status.idle": "2022-05-16T20:35:20.138039Z",
     "shell.execute_reply": "2022-05-16T20:35:20.138799Z"
    },
    "papermill": {
     "duration": 0.044972,
     "end_time": "2022-05-16T20:35:20.138969",
     "exception": false,
     "start_time": "2022-05-16T20:35:20.093997",
     "status": "completed"
    },
    "tags": []
   },
   "outputs": [
    {
     "name": "stdout",
     "output_type": "stream",
     "text": [
      "ilçeee\n"
     ]
    }
   ],
   "source": [
    "print(\"ilçeee\")"
   ]
  },
  {
   "cell_type": "code",
   "execution_count": 19,
   "id": "e3043933",
   "metadata": {
    "execution": {
     "iopub.execute_input": "2022-05-16T20:35:20.218372Z",
     "iopub.status.busy": "2022-05-16T20:35:20.217746Z",
     "iopub.status.idle": "2022-05-16T20:35:20.220447Z",
     "shell.execute_reply": "2022-05-16T20:35:20.220836Z"
    },
    "papermill": {
     "duration": 0.045112,
     "end_time": "2022-05-16T20:35:20.220979",
     "exception": false,
     "start_time": "2022-05-16T20:35:20.175867",
     "status": "completed"
    },
    "tags": []
   },
   "outputs": [
    {
     "data": {
      "text/plain": [
       "{'yer': 'Seydisehir',\n",
       " 'yıl': '2021',\n",
       " 'ort': 0.2151978,\n",
       " 'std': 0.07011963,\n",
       " 'kat1': 46.70212005586039,\n",
       " 'kat2': 53.2886019507153,\n",
       " 'kat3': 0.009277993424308068}"
      ]
     },
     "execution_count": 19,
     "metadata": {},
     "output_type": "execute_result"
    }
   ],
   "source": [
    "dictlist[-1]"
   ]
  },
  {
   "cell_type": "code",
   "execution_count": 20,
   "id": "68320ab7",
   "metadata": {
    "execution": {
     "iopub.execute_input": "2022-05-16T20:35:20.297678Z",
     "iopub.status.busy": "2022-05-16T20:35:20.297110Z",
     "iopub.status.idle": "2022-05-16T20:51:02.001227Z",
     "shell.execute_reply": "2022-05-16T20:51:02.000689Z",
     "shell.execute_reply.started": "2022-04-24T22:37:55.564652Z"
    },
    "papermill": {
     "duration": 941.744834,
     "end_time": "2022-05-16T20:51:02.001386",
     "exception": false,
     "start_time": "2022-05-16T20:35:20.256552",
     "status": "completed"
    },
    "tags": []
   },
   "outputs": [
    {
     "name": "stderr",
     "output_type": "stream",
     "text": [
      "/opt/conda/lib/python3.7/site-packages/ipykernel_launcher.py:8: RuntimeWarning: Mean of empty slice\n",
      "  \n",
      "/opt/conda/lib/python3.7/site-packages/numpy/lib/nanfunctions.py:1665: RuntimeWarning: Degrees of freedom <= 0 for slice.\n",
      "  keepdims=keepdims)\n"
     ]
    },
    {
     "name": "stdout",
     "output_type": "stream",
     "text": [
      "Boş Görüntü Atlandı\n"
     ]
    },
    {
     "name": "stderr",
     "output_type": "stream",
     "text": [
      "/opt/conda/lib/python3.7/site-packages/ipykernel_launcher.py:8: RuntimeWarning: Mean of empty slice\n",
      "  \n",
      "/opt/conda/lib/python3.7/site-packages/numpy/lib/nanfunctions.py:1665: RuntimeWarning: Degrees of freedom <= 0 for slice.\n",
      "  keepdims=keepdims)\n"
     ]
    },
    {
     "name": "stdout",
     "output_type": "stream",
     "text": [
      "Boş Görüntü Atlandı\n"
     ]
    },
    {
     "name": "stderr",
     "output_type": "stream",
     "text": [
      "/opt/conda/lib/python3.7/site-packages/ipykernel_launcher.py:8: RuntimeWarning: Mean of empty slice\n",
      "  \n",
      "/opt/conda/lib/python3.7/site-packages/numpy/lib/nanfunctions.py:1665: RuntimeWarning: Degrees of freedom <= 0 for slice.\n",
      "  keepdims=keepdims)\n"
     ]
    },
    {
     "name": "stdout",
     "output_type": "stream",
     "text": [
      "Boş Görüntü Atlandı\n"
     ]
    },
    {
     "name": "stderr",
     "output_type": "stream",
     "text": [
      "/opt/conda/lib/python3.7/site-packages/ipykernel_launcher.py:8: RuntimeWarning: Mean of empty slice\n",
      "  \n",
      "/opt/conda/lib/python3.7/site-packages/numpy/lib/nanfunctions.py:1665: RuntimeWarning: Degrees of freedom <= 0 for slice.\n",
      "  keepdims=keepdims)\n"
     ]
    },
    {
     "name": "stdout",
     "output_type": "stream",
     "text": [
      "Boş Görüntü Atlandı\n"
     ]
    },
    {
     "name": "stderr",
     "output_type": "stream",
     "text": [
      "/opt/conda/lib/python3.7/site-packages/ipykernel_launcher.py:8: RuntimeWarning: Mean of empty slice\n",
      "  \n",
      "/opt/conda/lib/python3.7/site-packages/numpy/lib/nanfunctions.py:1665: RuntimeWarning: Degrees of freedom <= 0 for slice.\n",
      "  keepdims=keepdims)\n"
     ]
    },
    {
     "name": "stdout",
     "output_type": "stream",
     "text": [
      "Boş Görüntü Atlandı\n"
     ]
    },
    {
     "name": "stderr",
     "output_type": "stream",
     "text": [
      "/opt/conda/lib/python3.7/site-packages/ipykernel_launcher.py:8: RuntimeWarning: Mean of empty slice\n",
      "  \n",
      "/opt/conda/lib/python3.7/site-packages/numpy/lib/nanfunctions.py:1665: RuntimeWarning: Degrees of freedom <= 0 for slice.\n",
      "  keepdims=keepdims)\n"
     ]
    },
    {
     "name": "stdout",
     "output_type": "stream",
     "text": [
      "Boş Görüntü Atlandı\n"
     ]
    },
    {
     "name": "stderr",
     "output_type": "stream",
     "text": [
      "/opt/conda/lib/python3.7/site-packages/ipykernel_launcher.py:8: RuntimeWarning: Mean of empty slice\n",
      "  \n",
      "/opt/conda/lib/python3.7/site-packages/numpy/lib/nanfunctions.py:1665: RuntimeWarning: Degrees of freedom <= 0 for slice.\n",
      "  keepdims=keepdims)\n"
     ]
    },
    {
     "name": "stdout",
     "output_type": "stream",
     "text": [
      "Boş Görüntü Atlandı\n"
     ]
    },
    {
     "name": "stderr",
     "output_type": "stream",
     "text": [
      "/opt/conda/lib/python3.7/site-packages/ipykernel_launcher.py:8: RuntimeWarning: Mean of empty slice\n",
      "  \n",
      "/opt/conda/lib/python3.7/site-packages/numpy/lib/nanfunctions.py:1665: RuntimeWarning: Degrees of freedom <= 0 for slice.\n",
      "  keepdims=keepdims)\n"
     ]
    },
    {
     "name": "stdout",
     "output_type": "stream",
     "text": [
      "Boş Görüntü Atlandı\n"
     ]
    },
    {
     "name": "stderr",
     "output_type": "stream",
     "text": [
      "/opt/conda/lib/python3.7/site-packages/ipykernel_launcher.py:8: RuntimeWarning: Mean of empty slice\n",
      "  \n",
      "/opt/conda/lib/python3.7/site-packages/numpy/lib/nanfunctions.py:1665: RuntimeWarning: Degrees of freedom <= 0 for slice.\n",
      "  keepdims=keepdims)\n"
     ]
    },
    {
     "name": "stdout",
     "output_type": "stream",
     "text": [
      "Boş Görüntü Atlandı\n"
     ]
    },
    {
     "name": "stderr",
     "output_type": "stream",
     "text": [
      "/opt/conda/lib/python3.7/site-packages/ipykernel_launcher.py:8: RuntimeWarning: Mean of empty slice\n",
      "  \n",
      "/opt/conda/lib/python3.7/site-packages/numpy/lib/nanfunctions.py:1665: RuntimeWarning: Degrees of freedom <= 0 for slice.\n",
      "  keepdims=keepdims)\n"
     ]
    },
    {
     "name": "stdout",
     "output_type": "stream",
     "text": [
      "Boş Görüntü Atlandı\n"
     ]
    },
    {
     "name": "stderr",
     "output_type": "stream",
     "text": [
      "/opt/conda/lib/python3.7/site-packages/ipykernel_launcher.py:8: RuntimeWarning: Mean of empty slice\n",
      "  \n",
      "/opt/conda/lib/python3.7/site-packages/numpy/lib/nanfunctions.py:1665: RuntimeWarning: Degrees of freedom <= 0 for slice.\n",
      "  keepdims=keepdims)\n"
     ]
    },
    {
     "name": "stdout",
     "output_type": "stream",
     "text": [
      "Boş Görüntü Atlandı\n"
     ]
    },
    {
     "name": "stderr",
     "output_type": "stream",
     "text": [
      "/opt/conda/lib/python3.7/site-packages/ipykernel_launcher.py:8: RuntimeWarning: Mean of empty slice\n",
      "  \n",
      "/opt/conda/lib/python3.7/site-packages/numpy/lib/nanfunctions.py:1665: RuntimeWarning: Degrees of freedom <= 0 for slice.\n",
      "  keepdims=keepdims)\n"
     ]
    },
    {
     "name": "stdout",
     "output_type": "stream",
     "text": [
      "Boş Görüntü Atlandı\n"
     ]
    }
   ],
   "source": [
    "for yearlist in ilce_ndvil5:\n",
    "    year = yearlist[-4:]\n",
    "    for ndvi in os.listdir(\"../input/2204-d-l-e-s-n-rlar-na-k-rpma-l5/\"+ yearlist):\n",
    "        place = ndvi.split(\"_\")[0]\n",
    "        ndvi_arr = rxr.open_rasterio(\"../input/2204-d-l-e-s-n-rlar-na-k-rpma-l5/\"+yearlist+\"/\"+ndvi, masked=True).squeeze()\n",
    "        csvdict = ndvi_to_csvdict(ndvi_arr, year = year, place = place)\n",
    "        if csvdict == \"None\":\n",
    "            continue\n",
    "        else:\n",
    "            dictlist.append(csvdict)"
   ]
  },
  {
   "cell_type": "code",
   "execution_count": 21,
   "id": "97f64d97",
   "metadata": {
    "execution": {
     "iopub.execute_input": "2022-05-16T20:51:02.098319Z",
     "iopub.status.busy": "2022-05-16T20:51:02.097243Z",
     "iopub.status.idle": "2022-05-16T20:51:02.100547Z",
     "shell.execute_reply": "2022-05-16T20:51:02.101004Z"
    },
    "papermill": {
     "duration": 0.054635,
     "end_time": "2022-05-16T20:51:02.101144",
     "exception": false,
     "start_time": "2022-05-16T20:51:02.046509",
     "status": "completed"
    },
    "tags": []
   },
   "outputs": [
    {
     "data": {
      "text/plain": [
       "{'yer': 'Meram',\n",
       " 'yıl': '2011',\n",
       " 'ort': 0.11431679,\n",
       " 'std': 0.06969182,\n",
       " 'kat1': 90.3282746123152,\n",
       " 'kat2': 9.665688472751341,\n",
       " 'kat3': 0.006036914933457704}"
      ]
     },
     "execution_count": 21,
     "metadata": {},
     "output_type": "execute_result"
    }
   ],
   "source": [
    "dictlist[-1]"
   ]
  },
  {
   "cell_type": "code",
   "execution_count": 22,
   "id": "a3609ee2",
   "metadata": {
    "execution": {
     "iopub.execute_input": "2022-05-16T20:51:02.193977Z",
     "iopub.status.busy": "2022-05-16T20:51:02.193442Z",
     "iopub.status.idle": "2022-05-16T20:51:02.199145Z",
     "shell.execute_reply": "2022-05-16T20:51:02.198653Z"
    },
    "papermill": {
     "duration": 0.054497,
     "end_time": "2022-05-16T20:51:02.199256",
     "exception": false,
     "start_time": "2022-05-16T20:51:02.144759",
     "status": "completed"
    },
    "tags": []
   },
   "outputs": [
    {
     "data": {
      "text/plain": [
       "{'yer': 'Konya_il',\n",
       " 'yıl': '2021',\n",
       " 'ort': 0.15037057,\n",
       " 'std': 0.0900481,\n",
       " 'kat1': 80.27865744219098,\n",
       " 'kat2': 19.15757793490089,\n",
       " 'kat3': 0.5637646229081307}"
      ]
     },
     "execution_count": 22,
     "metadata": {},
     "output_type": "execute_result"
    }
   ],
   "source": [
    "dictlist[100]"
   ]
  },
  {
   "cell_type": "code",
   "execution_count": 23,
   "id": "a2e3ec52",
   "metadata": {
    "execution": {
     "iopub.execute_input": "2022-05-16T20:51:02.294503Z",
     "iopub.status.busy": "2022-05-16T20:51:02.293718Z",
     "iopub.status.idle": "2022-05-16T20:51:02.296385Z",
     "shell.execute_reply": "2022-05-16T20:51:02.296973Z"
    },
    "papermill": {
     "duration": 0.052567,
     "end_time": "2022-05-16T20:51:02.297139",
     "exception": false,
     "start_time": "2022-05-16T20:51:02.244572",
     "status": "completed"
    },
    "tags": []
   },
   "outputs": [
    {
     "name": "stdout",
     "output_type": "stream",
     "text": [
      "dataframe e gidiyok\n"
     ]
    }
   ],
   "source": [
    "print(\"dataframe e gidiyok\")"
   ]
  },
  {
   "cell_type": "code",
   "execution_count": 24,
   "id": "be3e8b2c",
   "metadata": {
    "execution": {
     "iopub.execute_input": "2022-05-16T20:51:02.417428Z",
     "iopub.status.busy": "2022-05-16T20:51:02.416649Z",
     "iopub.status.idle": "2022-05-16T20:51:02.438535Z",
     "shell.execute_reply": "2022-05-16T20:51:02.438088Z",
     "shell.execute_reply.started": "2022-04-24T22:39:05.447013Z"
    },
    "papermill": {
     "duration": 0.096427,
     "end_time": "2022-05-16T20:51:02.438655",
     "exception": false,
     "start_time": "2022-05-16T20:51:02.342228",
     "status": "completed"
    },
    "tags": []
   },
   "outputs": [
    {
     "data": {
      "text/html": [
       "<div>\n",
       "<style scoped>\n",
       "    .dataframe tbody tr th:only-of-type {\n",
       "        vertical-align: middle;\n",
       "    }\n",
       "\n",
       "    .dataframe tbody tr th {\n",
       "        vertical-align: top;\n",
       "    }\n",
       "\n",
       "    .dataframe thead th {\n",
       "        text-align: right;\n",
       "    }\n",
       "</style>\n",
       "<table border=\"1\" class=\"dataframe\">\n",
       "  <thead>\n",
       "    <tr style=\"text-align: right;\">\n",
       "      <th></th>\n",
       "      <th>yer</th>\n",
       "      <th>yıl</th>\n",
       "      <th>ort</th>\n",
       "      <th>std</th>\n",
       "      <th>kat1</th>\n",
       "      <th>kat2</th>\n",
       "      <th>kat3</th>\n",
       "    </tr>\n",
       "  </thead>\n",
       "  <tbody>\n",
       "    <tr>\n",
       "      <th>0</th>\n",
       "      <td>Havza</td>\n",
       "      <td>2013</td>\n",
       "      <td>0.142406</td>\n",
       "      <td>0.089892</td>\n",
       "      <td>83.460978</td>\n",
       "      <td>15.849318</td>\n",
       "      <td>0.689704</td>\n",
       "    </tr>\n",
       "    <tr>\n",
       "      <th>1</th>\n",
       "      <td>Havza</td>\n",
       "      <td>2014</td>\n",
       "      <td>0.137440</td>\n",
       "      <td>0.087038</td>\n",
       "      <td>82.974731</td>\n",
       "      <td>16.656456</td>\n",
       "      <td>0.368813</td>\n",
       "    </tr>\n",
       "    <tr>\n",
       "      <th>2</th>\n",
       "      <td>Havza</td>\n",
       "      <td>2015</td>\n",
       "      <td>0.145719</td>\n",
       "      <td>0.087256</td>\n",
       "      <td>82.065228</td>\n",
       "      <td>17.313620</td>\n",
       "      <td>0.621152</td>\n",
       "    </tr>\n",
       "    <tr>\n",
       "      <th>3</th>\n",
       "      <td>Havza</td>\n",
       "      <td>2016</td>\n",
       "      <td>0.143232</td>\n",
       "      <td>0.103975</td>\n",
       "      <td>83.036858</td>\n",
       "      <td>15.607313</td>\n",
       "      <td>1.355829</td>\n",
       "    </tr>\n",
       "    <tr>\n",
       "      <th>4</th>\n",
       "      <td>Havza</td>\n",
       "      <td>2017</td>\n",
       "      <td>0.171333</td>\n",
       "      <td>0.098933</td>\n",
       "      <td>71.907482</td>\n",
       "      <td>27.255065</td>\n",
       "      <td>0.837452</td>\n",
       "    </tr>\n",
       "    <tr>\n",
       "      <th>...</th>\n",
       "      <td>...</td>\n",
       "      <td>...</td>\n",
       "      <td>...</td>\n",
       "      <td>...</td>\n",
       "      <td>...</td>\n",
       "      <td>...</td>\n",
       "      <td>...</td>\n",
       "    </tr>\n",
       "    <tr>\n",
       "      <th>1579</th>\n",
       "      <td>Mut</td>\n",
       "      <td>2011</td>\n",
       "      <td>0.093986</td>\n",
       "      <td>0.015203</td>\n",
       "      <td>99.997313</td>\n",
       "      <td>0.002687</td>\n",
       "      <td>0.000000</td>\n",
       "    </tr>\n",
       "    <tr>\n",
       "      <th>1580</th>\n",
       "      <td>Toroslar</td>\n",
       "      <td>2011</td>\n",
       "      <td>0.096852</td>\n",
       "      <td>0.023959</td>\n",
       "      <td>99.960830</td>\n",
       "      <td>0.039170</td>\n",
       "      <td>0.000000</td>\n",
       "    </tr>\n",
       "    <tr>\n",
       "      <th>1581</th>\n",
       "      <td>Sultanhani</td>\n",
       "      <td>2011</td>\n",
       "      <td>0.079294</td>\n",
       "      <td>0.056371</td>\n",
       "      <td>96.059978</td>\n",
       "      <td>3.926262</td>\n",
       "      <td>0.013760</td>\n",
       "    </tr>\n",
       "    <tr>\n",
       "      <th>1582</th>\n",
       "      <td>Guzelyurt</td>\n",
       "      <td>2011</td>\n",
       "      <td>0.114842</td>\n",
       "      <td>0.055777</td>\n",
       "      <td>92.318737</td>\n",
       "      <td>7.680925</td>\n",
       "      <td>0.000338</td>\n",
       "    </tr>\n",
       "    <tr>\n",
       "      <th>1583</th>\n",
       "      <td>Meram</td>\n",
       "      <td>2011</td>\n",
       "      <td>0.114317</td>\n",
       "      <td>0.069692</td>\n",
       "      <td>90.328275</td>\n",
       "      <td>9.665688</td>\n",
       "      <td>0.006037</td>\n",
       "    </tr>\n",
       "  </tbody>\n",
       "</table>\n",
       "<p>1584 rows × 7 columns</p>\n",
       "</div>"
      ],
      "text/plain": [
       "             yer   yıl       ort       std       kat1       kat2      kat3\n",
       "0          Havza  2013  0.142406  0.089892  83.460978  15.849318  0.689704\n",
       "1          Havza  2014  0.137440  0.087038  82.974731  16.656456  0.368813\n",
       "2          Havza  2015  0.145719  0.087256  82.065228  17.313620  0.621152\n",
       "3          Havza  2016  0.143232  0.103975  83.036858  15.607313  1.355829\n",
       "4          Havza  2017  0.171333  0.098933  71.907482  27.255065  0.837452\n",
       "...          ...   ...       ...       ...        ...        ...       ...\n",
       "1579         Mut  2011  0.093986  0.015203  99.997313   0.002687  0.000000\n",
       "1580    Toroslar  2011  0.096852  0.023959  99.960830   0.039170  0.000000\n",
       "1581  Sultanhani  2011  0.079294  0.056371  96.059978   3.926262  0.013760\n",
       "1582   Guzelyurt  2011  0.114842  0.055777  92.318737   7.680925  0.000338\n",
       "1583       Meram  2011  0.114317  0.069692  90.328275   9.665688  0.006037\n",
       "\n",
       "[1584 rows x 7 columns]"
      ]
     },
     "execution_count": 24,
     "metadata": {},
     "output_type": "execute_result"
    }
   ],
   "source": [
    "ndvi_df = pd.DataFrame(dictlist)\n",
    "ndvi_df"
   ]
  },
  {
   "cell_type": "code",
   "execution_count": 25,
   "id": "010ecc7d",
   "metadata": {
    "execution": {
     "iopub.execute_input": "2022-05-16T20:51:02.557745Z",
     "iopub.status.busy": "2022-05-16T20:51:02.556810Z",
     "iopub.status.idle": "2022-05-16T20:51:02.593939Z",
     "shell.execute_reply": "2022-05-16T20:51:02.594520Z"
    },
    "papermill": {
     "duration": 0.106005,
     "end_time": "2022-05-16T20:51:02.594687",
     "exception": false,
     "start_time": "2022-05-16T20:51:02.488682",
     "status": "completed"
    },
    "tags": []
   },
   "outputs": [],
   "source": [
    "ndvi_df.to_csv(\"./NDVI_Degerler_2000_2021.csv\")"
   ]
  }
 ],
 "metadata": {
  "kernelspec": {
   "display_name": "Python 3",
   "language": "python",
   "name": "python3"
  },
  "language_info": {
   "codemirror_mode": {
    "name": "ipython",
    "version": 3
   },
   "file_extension": ".py",
   "mimetype": "text/x-python",
   "name": "python",
   "nbconvert_exporter": "python",
   "pygments_lexer": "ipython3",
   "version": "3.7.12"
  },
  "papermill": {
   "default_parameters": {},
   "duration": 5720.669405,
   "end_time": "2022-05-16T20:51:04.070831",
   "environment_variables": {},
   "exception": null,
   "input_path": "__notebook__.ipynb",
   "output_path": "__notebook__.ipynb",
   "parameters": {},
   "start_time": "2022-05-16T19:15:43.401426",
   "version": "2.3.3"
  }
 },
 "nbformat": 4,
 "nbformat_minor": 5
}
